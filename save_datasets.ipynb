{
 "cells": [
  {
   "cell_type": "code",
   "execution_count": 1,
   "id": "047a36fe",
   "metadata": {},
   "outputs": [
    {
     "ename": "ModuleNotFoundError",
     "evalue": "No module named 'matplotlib'",
     "output_type": "error",
     "traceback": [
      "\u001b[31m---------------------------------------------------------------------------\u001b[39m",
      "\u001b[31mModuleNotFoundError\u001b[39m                       Traceback (most recent call last)",
      "\u001b[36mCell\u001b[39m\u001b[36m \u001b[39m\u001b[32mIn[1]\u001b[39m\u001b[32m, line 1\u001b[39m\n\u001b[32m----> \u001b[39m\u001b[32m1\u001b[39m \u001b[38;5;28;01mimport\u001b[39;00m\u001b[38;5;250m \u001b[39m\u001b[34;01mmatplotlib\u001b[39;00m\u001b[34;01m.\u001b[39;00m\u001b[34;01mpyplot\u001b[39;00m\u001b[38;5;250m \u001b[39m\u001b[38;5;28;01mas\u001b[39;00m\u001b[38;5;250m \u001b[39m\u001b[34;01mplt\u001b[39;00m\n\u001b[32m      2\u001b[39m \u001b[38;5;28;01mimport\u001b[39;00m\u001b[38;5;250m \u001b[39m\u001b[34;01mtorchvision\u001b[39;00m\n\u001b[32m      3\u001b[39m \u001b[38;5;28;01mfrom\u001b[39;00m\u001b[38;5;250m \u001b[39m\u001b[34;01mdatasets\u001b[39;00m\u001b[38;5;250m \u001b[39m\u001b[38;5;28;01mimport\u001b[39;00m load_dataset, load_from_disk\n",
      "\u001b[31mModuleNotFoundError\u001b[39m: No module named 'matplotlib'"
     ]
    }
   ],
   "source": [
    "import matplotlib.pyplot as plt\n",
    "import torchvision\n",
    "from datasets import load_dataset, load_from_disk\n",
    "from torchvision.transforms import Compose, Normalize, ToTensor\n",
    "from torch.utils.data import DataLoader"
   ]
  },
  {
   "cell_type": "code",
   "execution_count": null,
   "id": "ce98e4d6",
   "metadata": {},
   "outputs": [],
   "source": [
    "datasets = [\"organamnist\", \"pathmnist\", \"retinamnist\", \"dermamnist\", \"bloodmnist\"]\n",
    "image_size = \"64\" # 28, 64, 128"
   ]
  },
  {
   "cell_type": "code",
   "execution_count": null,
   "id": "7a654958-c3c5-4ea1-828a-d8672b8d70c4",
   "metadata": {},
   "outputs": [],
   "source": [
    "dataset_dir = \"medmnist_datasets\"\n",
    "for dataset_name in datasets:\n",
    "    test_dataset = load_dataset(f\"jafermarq/{dataset_name}\", image_size, split=\"val\")\n",
    "    test_dataset.save_to_disk(f\"{dataset_dir}/{dataset_name}\")"
   ]
  },
  {
   "cell_type": "code",
   "execution_count": null,
   "id": "6a723c62",
   "metadata": {},
   "outputs": [],
   "source": [
    "pytorch_transforms = Compose([ToTensor(), Normalize((0.5, 0.5, 0.5), (0.5, 0.5, 0.5))])\n",
    "\n",
    "def apply_transforms(batch):\n",
    "    \"\"\"Apply transforms to the batch.\"\"\"\n",
    "    batch[\"image\"] = [pytorch_transforms(img) for img in batch[\"image\"]]\n",
    "    return batch"
   ]
  },
  {
   "cell_type": "code",
   "execution_count": null,
   "id": "defc36dd",
   "metadata": {},
   "outputs": [],
   "source": [
    "# Use \"pathmnist\" as an example to test the dataloader\n",
    "test_dataset = load_from_disk(f\"{dataset_dir}/pathmnist\")\n",
    "dataset = test_dataset.with_format(\"torch\").with_transform(apply_transforms)\n",
    "dataloader = DataLoader(dataset, batch_size=8)"
   ]
  },
  {
   "cell_type": "code",
   "execution_count": null,
   "id": "59b19340",
   "metadata": {},
   "outputs": [],
   "source": [
    "# Print out the first batch\n",
    "batch = next(iter(dataloader))\n",
    "images, labels = batch[\"image\"], batch[\"label\"]\n",
    "\n",
    "# Make a grid of the batch\n",
    "grid = torchvision.utils.make_grid(images, nrow=4, normalize=True, scale_each=True)\n",
    "\n",
    "# Plot\n",
    "plt.figure(figsize=(8, 8))\n",
    "plt.imshow(grid.permute(1, 2, 0))  # (C,H,W) -> (H,W,C)\n",
    "plt.axis(\"off\")\n",
    "plt.show()\n",
    "\n",
    "print(\"Labels:\", labels.tolist())"
   ]
  }
 ],
 "metadata": {
  "kernelspec": {
   "display_name": "3.11.6",
   "language": "python",
   "name": "python3"
  },
  "language_info": {
   "codemirror_mode": {
    "name": "ipython",
    "version": 3
   },
   "file_extension": ".py",
   "mimetype": "text/x-python",
   "name": "python",
   "nbconvert_exporter": "python",
   "pygments_lexer": "ipython3",
   "version": "3.11.6"
  }
 },
 "nbformat": 4,
 "nbformat_minor": 5
}
